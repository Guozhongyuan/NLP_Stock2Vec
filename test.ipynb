{
 "cells": [
  {
   "cell_type": "code",
   "execution_count": 1,
   "metadata": {},
   "outputs": [],
   "source": [
    "from gensim.models import Word2Vec\n",
    "\n",
    "model = Word2Vec.load(\"out/word2vec.model\")"
   ]
  },
  {
   "cell_type": "code",
   "execution_count": 2,
   "metadata": {},
   "outputs": [],
   "source": [
    "# examples\n",
    "\n",
    "# vector\n",
    "vector = model.wv['computer']\n",
    "\n",
    "# similar words\n",
    "sim = model.wv.most_similar('computer', topn=10)\n",
    "\n",
    "# analogy\n",
    "model.wv.most_similar(positive=['huawei','iphone'], negative=['apple'], topn = 5)"
   ]
  },
  {
   "cell_type": "markdown",
   "metadata": {},
   "source": [
    "### similarity"
   ]
  },
  {
   "cell_type": "code",
   "execution_count": 2,
   "metadata": {},
   "outputs": [
    {
     "data": {
      "text/plain": [
       "[('jblu', 0.7010911703109741),\n",
       " ('skyw', 0.6462405323982239),\n",
       " ('bbby', 0.6461135149002075),\n",
       " ('algt', 0.6386579871177673),\n",
       " ('xspa', 0.6371398568153381)]"
      ]
     },
     "execution_count": 2,
     "metadata": {},
     "output_type": "execute_result"
    }
   ],
   "source": [
    "model.wv.most_similar('aal', topn=5)"
   ]
  },
  {
   "cell_type": "code",
   "execution_count": 3,
   "metadata": {},
   "outputs": [
    {
     "data": {
      "text/plain": [
       "[('nasdaq', 0.6914328336715698),\n",
       " ('biolase', 0.45718759298324585),\n",
       " ('mict', 0.4485626220703125),\n",
       " ('cbdmd', 0.44628557562828064),\n",
       " ('xpel', 0.442160964012146)]"
      ]
     },
     "execution_count": 3,
     "metadata": {},
     "output_type": "execute_result"
    }
   ],
   "source": [
    "model.wv.most_similar('nyse', topn=5)"
   ]
  },
  {
   "cell_type": "code",
   "execution_count": 4,
   "metadata": {},
   "outputs": [
    {
     "data": {
      "text/plain": [
       "[('impax', 0.5386782884597778),\n",
       " ('relx', 0.5097220540046692),\n",
       " ('italiana', 0.49079710245132446),\n",
       " ('glencore', 0.4840272068977356),\n",
       " ('euronext', 0.481984406709671)]"
      ]
     },
     "execution_count": 4,
     "metadata": {},
     "output_type": "execute_result"
    }
   ],
   "source": [
    "model.wv.most_similar('lse', topn=5)"
   ]
  },
  {
   "cell_type": "code",
   "execution_count": 5,
   "metadata": {},
   "outputs": [
    {
     "data": {
      "text/plain": [
       "[('facebook', 0.6508587002754211),\n",
       " ('apple', 0.5585451722145081),\n",
       " ('mozilla', 0.5578160881996155),\n",
       " ('amazon', 0.5454176664352417),\n",
       " ('microsoft', 0.5435856580734253),\n",
       " ('firefox', 0.530327558517456),\n",
       " ('waze', 0.5264374613761902),\n",
       " ('quotegoogl', 0.5158611536026001),\n",
       " ('youtube', 0.5098968744277954),\n",
       " ('safari', 0.5041413903236389)]"
      ]
     },
     "execution_count": 5,
     "metadata": {},
     "output_type": "execute_result"
    }
   ],
   "source": [
    "model.wv.most_similar('google', topn=10)"
   ]
  },
  {
   "cell_type": "code",
   "execution_count": 6,
   "metadata": {},
   "outputs": [
    {
     "data": {
      "text/plain": [
       "[('intc', 0.7095908522605896),\n",
       " ('nvidia', 0.6610314846038818),\n",
       " ('msft', 0.6338958740234375),\n",
       " ('lrcx', 0.6189212203025818),\n",
       " ('qcom', 0.5840693116188049),\n",
       " ('wdc', 0.5834391117095947),\n",
       " ('sbux', 0.5742964148521423),\n",
       " ('quotenvda', 0.5717154145240784),\n",
       " ('nxpi', 0.5651944279670715),\n",
       " ('mu', 0.564720630645752),\n",
       " ('amd', 0.5615965127944946),\n",
       " ('klac', 0.5574623346328735),\n",
       " ('xlnx', 0.5546700954437256),\n",
       " ('iphi', 0.5542412996292114),\n",
       " ('mnst', 0.5493896007537842),\n",
       " ('gntx', 0.5452836751937866),\n",
       " ('csco', 0.5421131253242493),\n",
       " ('atvi', 0.5408796668052673),\n",
       " ('mchp', 0.5323617458343506),\n",
       " ('aapl', 0.5276411175727844)]"
      ]
     },
     "execution_count": 6,
     "metadata": {},
     "output_type": "execute_result"
    }
   ],
   "source": [
    "model.wv.most_similar('nvda', topn=20)"
   ]
  },
  {
   "cell_type": "code",
   "execution_count": 7,
   "metadata": {},
   "outputs": [
    {
     "data": {
      "text/plain": [
       "[('nvda', 0.6338958740234375),\n",
       " ('microsoft', 0.6083743572235107),\n",
       " ('quotemsft', 0.6021252274513245),\n",
       " ('googl', 0.5934880971908569),\n",
       " ('mfst', 0.5905758142471313),\n",
       " ('intc', 0.5879390239715576),\n",
       " ('amzn', 0.5728392004966736),\n",
       " ('fb', 0.5690019130706787),\n",
       " ('csco', 0.5472801327705383),\n",
       " ('aapl', 0.5432073473930359),\n",
       " ('goog', 0.5430911183357239),\n",
       " ('sbux', 0.5430381298065186),\n",
       " ('atvi', 0.5364345908164978),\n",
       " ('zm', 0.5310080647468567),\n",
       " ('lrcx', 0.5239993333816528),\n",
       " ('nflx', 0.5225887894630432),\n",
       " ('flyw', 0.5039941072463989),\n",
       " ('infn', 0.4958593249320984),\n",
       " ('exas', 0.49157652258872986),\n",
       " ('quicklogic', 0.4907951056957245)]"
      ]
     },
     "execution_count": 7,
     "metadata": {},
     "output_type": "execute_result"
    }
   ],
   "source": [
    "model.wv.most_similar('msft', topn=20)"
   ]
  },
  {
   "cell_type": "code",
   "execution_count": 8,
   "metadata": {},
   "outputs": [
    {
     "data": {
      "text/plain": [
       "[('mnst', 0.6157433986663818),\n",
       " ('starbucks', 0.6083324551582336),\n",
       " ('jblu', 0.5931439399719238),\n",
       " ('wdc', 0.58804851770401),\n",
       " ('denn', 0.5768846273422241),\n",
       " ('nvda', 0.5742964744567871),\n",
       " ('khc', 0.5593186020851135),\n",
       " ('quicklogic', 0.5553919672966003),\n",
       " ('quotesbux', 0.5513373613357544),\n",
       " ('bynd', 0.5502364635467529),\n",
       " ('mcd', 0.5484432578086853),\n",
       " ('lrcx', 0.5474947094917297),\n",
       " ('flyw', 0.546372652053833),\n",
       " ('jva', 0.5452503561973572),\n",
       " ('msft', 0.5430381298065186),\n",
       " ('rost', 0.5424732565879822),\n",
       " ('ntrs', 0.5410557985305786),\n",
       " ('intc', 0.5395530462265015),\n",
       " ('lndc', 0.5374776124954224),\n",
       " ('sbac', 0.5320711135864258)]"
      ]
     },
     "execution_count": 8,
     "metadata": {},
     "output_type": "execute_result"
    }
   ],
   "source": [
    "model.wv.most_similar('sbux', topn=20)"
   ]
  },
  {
   "cell_type": "code",
   "execution_count": 9,
   "metadata": {},
   "outputs": [
    {
     "data": {
      "text/plain": [
       "[('klac', 0.7862967848777771),\n",
       " ('gntx', 0.6712931990623474),\n",
       " ('amat', 0.6558353900909424),\n",
       " ('exas', 0.6494921445846558),\n",
       " ('ntrs', 0.6352975964546204),\n",
       " ('midd', 0.6295713782310486),\n",
       " ('lndc', 0.6259791254997253),\n",
       " ('dynatronics', 0.6258304715156555),\n",
       " ('dynt', 0.6250819563865662),\n",
       " ('wdc', 0.6200268864631653),\n",
       " ('bgfv', 0.6193526387214661),\n",
       " ('nvda', 0.6189213991165161),\n",
       " ('intc', 0.6175349354743958),\n",
       " ('mnst', 0.6144058108329773),\n",
       " ('infn', 0.6135836839675903),\n",
       " ('clne', 0.6128719449043274),\n",
       " ('emkr', 0.6090900301933289),\n",
       " ('astronics', 0.6080043315887451),\n",
       " ('mchp', 0.6059573292732239),\n",
       " ('ctas', 0.6050557494163513)]"
      ]
     },
     "execution_count": 9,
     "metadata": {},
     "output_type": "execute_result"
    }
   ],
   "source": [
    "model.wv.most_similar('lrcx', topn=20)"
   ]
  },
  {
   "cell_type": "code",
   "execution_count": 10,
   "metadata": {},
   "outputs": [
    {
     "data": {
      "text/plain": [
       "[('headphones', 0.7524784207344055),\n",
       " ('earbuds', 0.7342649698257446),\n",
       " ('airpod', 0.6953224539756775),\n",
       " ('earphones', 0.6840214133262634),\n",
       " ('ipad', 0.6614601612091064),\n",
       " ('homepod', 0.6381838917732239),\n",
       " ('macbook', 0.6373290419578552),\n",
       " ('buds', 0.6335578560829163),\n",
       " ('ipads', 0.6027359366416931),\n",
       " ('laptop', 0.6020323038101196)]"
      ]
     },
     "execution_count": 10,
     "metadata": {},
     "output_type": "execute_result"
    }
   ],
   "source": [
    "model.wv.most_similar('airpods', topn=10)"
   ]
  },
  {
   "cell_type": "markdown",
   "metadata": {},
   "source": [
    "### analogy"
   ]
  },
  {
   "cell_type": "code",
   "execution_count": 18,
   "metadata": {},
   "outputs": [],
   "source": [
    "for i in range(1000):\n",
    "    model.wv.most_similar(positive=['uk','kfc'], negative=['us'], topn = 10)"
   ]
  },
  {
   "cell_type": "code",
   "execution_count": 3,
   "metadata": {},
   "outputs": [
    {
     "data": {
      "text/plain": [
       "0.0208"
      ]
     },
     "execution_count": 3,
     "metadata": {},
     "output_type": "execute_result"
    }
   ],
   "source": [
    "20.8 / 1000"
   ]
  },
  {
   "cell_type": "code",
   "execution_count": 12,
   "metadata": {},
   "outputs": [
    {
     "data": {
      "text/plain": [
       "[('popeyes', 0.4469602406024933),\n",
       " ('outback', 0.428303599357605),\n",
       " ('delhaize', 0.4280306398868561),\n",
       " ('mcplant', 0.41719183325767517),\n",
       " ('burger', 0.4143020212650299),\n",
       " ('zahumensky', 0.40816086530685425),\n",
       " ('ahold', 0.4073783755302429),\n",
       " ('wendy', 0.40585413575172424),\n",
       " ('franchisee', 0.4005988538265228),\n",
       " ('dunkin', 0.3962365686893463),\n",
       " ('panera', 0.39479154348373413),\n",
       " ('foodpanda', 0.39448779821395874),\n",
       " ('taco', 0.39101147651672363),\n",
       " ('hut', 0.386115163564682),\n",
       " ('pizza', 0.38533902168273926),\n",
       " ('biscuit', 0.3848536014556885),\n",
       " ('turin', 0.37805983424186707),\n",
       " ('arby', 0.37702980637550354),\n",
       " ('ute', 0.3744944930076599),\n",
       " ('mcdonald', 0.3738099932670593)]"
      ]
     },
     "execution_count": 12,
     "metadata": {},
     "output_type": "execute_result"
    }
   ],
   "source": [
    "model.wv.most_similar(positive=['uk','kfc'], negative=['us'], topn = 20)"
   ]
  },
  {
   "cell_type": "code",
   "execution_count": 13,
   "metadata": {},
   "outputs": [
    {
     "data": {
      "text/plain": [
       "[('ipads', 0.5561217069625854),\n",
       " ('macbooks', 0.5489758253097534),\n",
       " ('imac', 0.5169396996498108),\n",
       " ('ipad', 0.5089190006256104),\n",
       " ('homepod', 0.5055571794509888),\n",
       " ('earbuds', 0.4895922839641571),\n",
       " ('headphones', 0.4895726144313812),\n",
       " ('iphone', 0.4872305989265442),\n",
       " ('features', 0.4768039286136627),\n",
       " ('imacs', 0.4749448597431183)]"
      ]
     },
     "execution_count": 13,
     "metadata": {},
     "output_type": "execute_result"
    }
   ],
   "source": [
    "model.wv.most_similar(positive=['apple','xps'], negative=['dell'], topn = 10)"
   ]
  },
  {
   "cell_type": "code",
   "execution_count": 14,
   "metadata": {},
   "outputs": [
    {
     "data": {
      "text/plain": [
       "[('technologiesdell', 0.47327467799186707),\n",
       " ('xps', 0.4453597366809845),\n",
       " ('chromebook', 0.41567131876945496),\n",
       " ('exro', 0.4121229350566864),\n",
       " ('esxi', 0.3979601263999939),\n",
       " ('thinksystem', 0.39732325077056885),\n",
       " ('poweredge', 0.38731756806373596),\n",
       " ('vxrail', 0.3800804316997528),\n",
       " ('arlo', 0.37993526458740234),\n",
       " ('uqm', 0.37941867113113403)]"
      ]
     },
     "execution_count": 14,
     "metadata": {},
     "output_type": "execute_result"
    }
   ],
   "source": [
    "model.wv.most_similar(positive=['dell','macbooks'], negative=['apple'], topn = 10)"
   ]
  },
  {
   "cell_type": "code",
   "execution_count": 15,
   "metadata": {},
   "outputs": [
    {
     "data": {
      "text/plain": [
       "[('decline', 0.738893985748291),\n",
       " ('drop', 0.6909136772155762),\n",
       " ('fall', 0.6398097276687622),\n",
       " ('surge', 0.6226175427436829),\n",
       " ('jump', 0.6154280304908752)]"
      ]
     },
     "execution_count": 15,
     "metadata": {},
     "output_type": "execute_result"
    }
   ],
   "source": [
    "model.wv.most_similar(positive=['rise','bearish'], negative=['bullish'], topn = 5)"
   ]
  },
  {
   "cell_type": "code",
   "execution_count": 16,
   "metadata": {},
   "outputs": [
    {
     "data": {
      "text/plain": [
       "[('sell', 0.4545677602291107),\n",
       " ('overweight', 0.3803742229938507),\n",
       " ('hold', 0.3589194416999817),\n",
       " ('outperform', 0.3447694182395935),\n",
       " ('9670', 0.2972385585308075)]"
      ]
     },
     "execution_count": 16,
     "metadata": {},
     "output_type": "execute_result"
    }
   ],
   "source": [
    "model.wv.most_similar(positive=['buy','ask'], negative=['tell'], topn = 5)"
   ]
  },
  {
   "cell_type": "markdown",
   "metadata": {},
   "source": [
    "### company vectors"
   ]
  },
  {
   "cell_type": "code",
   "execution_count": 17,
   "metadata": {},
   "outputs": [
    {
     "name": "stderr",
     "output_type": "stream",
     "text": [
      "2020it [00:01, 1080.38it/s]"
     ]
    },
    {
     "name": "stdout",
     "output_type": "stream",
     "text": [
      "length 1360\n"
     ]
    },
    {
     "name": "stderr",
     "output_type": "stream",
     "text": [
      "\n"
     ]
    }
   ],
   "source": [
    "import pandas as pd\n",
    "import pickle\n",
    "from tqdm import tqdm\n",
    "\n",
    "df = pd.read_csv('data/full_stock_list.csv')\n",
    "\n",
    "names = df['Name'].to_list()\n",
    "infos = df['Business Description'].to_list()\n",
    "\n",
    "word_dict = model.wv.key_to_index\n",
    "words = []\n",
    "for key in word_dict.keys():\n",
    "    words.append(key)\n",
    "    \n",
    "all = []\n",
    "tickers = []\n",
    "for name, info in tqdm(zip(names,infos)):\n",
    "    tmp = name[:-2].split(' ')\n",
    "    ticker = tmp[0].lower()\n",
    "    if ticker in words and len(ticker)>1 and ticker not in tickers:\n",
    "        tickers.append(ticker)\n",
    "        vector = model.wv[ticker]\n",
    "        one = {\n",
    "            'ticker': ticker,\n",
    "            'vector': vector,\n",
    "            'info': info,\n",
    "        }\n",
    "        all.append(one)\n",
    "\n",
    "print('length', len(all))\n",
    "with open('data/vectors_CleanNewsFilter.pkl', 'wb') as f:\n",
    "    pickle.dump(all, f)"
   ]
  }
 ],
 "metadata": {
  "interpreter": {
   "hash": "7a96942e33b30fd3fc463803cf0d49a0ff46da19d28adb27c449b1a4da2abe8e"
  },
  "kernelspec": {
   "display_name": "Python 3.8.13 ('lora')",
   "language": "python",
   "name": "python3"
  },
  "language_info": {
   "codemirror_mode": {
    "name": "ipython",
    "version": 3
   },
   "file_extension": ".py",
   "mimetype": "text/x-python",
   "name": "python",
   "nbconvert_exporter": "python",
   "pygments_lexer": "ipython3",
   "version": "3.8.13"
  },
  "orig_nbformat": 4
 },
 "nbformat": 4,
 "nbformat_minor": 2
}
